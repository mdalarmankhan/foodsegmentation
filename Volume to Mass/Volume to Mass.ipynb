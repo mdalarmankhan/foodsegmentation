{
 "cells": [
  {
   "cell_type": "markdown",
   "id": "8498b2fc",
   "metadata": {},
   "source": [
    "### Following code helps to convert ingredients volume to mass. The input is ingredients name and volume; output is ingredients mass in gram"
   ]
  },
  {
   "cell_type": "code",
   "execution_count": 2,
   "id": "5872f94c",
   "metadata": {},
   "outputs": [
    {
     "data": {
      "text/plain": [
       "'c:\\\\users\\\\admin\\\\appdata\\\\local\\\\programs\\\\python\\\\python39'"
      ]
     },
     "execution_count": 2,
     "metadata": {},
     "output_type": "execute_result"
    }
   ],
   "source": [
    "import os\n",
    "import sys\n",
    "os.path.dirname(sys.executable)"
   ]
  },
  {
   "cell_type": "code",
   "execution_count": 22,
   "id": "5a5c0683",
   "metadata": {},
   "outputs": [
    {
     "name": "stdout",
     "output_type": "stream",
     "text": [
      "Food Name:vegetables\n",
      "Enter Volume:68.33\n"
     ]
    }
   ],
   "source": [
    "from os import times\n",
    "import pandas as pd\n",
    "from selenium import webdriver\n",
    "from selenium.webdriver.support.ui import WebDriverWait\n",
    "from selenium.webdriver.common.by import By\n",
    "from selenium.webdriver.support import expected_conditions as EC\n",
    "from selenium.webdriver.support.ui import Select\n",
    "from bs4 import BeautifulSoup\n",
    "import codecs\n",
    "import argparse\n",
    "import time\n",
    "\n",
    "food = input(\"Food Name:\")\n",
    "volume = input(\"Enter Volume:\")\n",
    "\n",
    "def save_page_source(driver):\n",
    "    html = driver.page_source\n",
    "    with open('fullpage_pagesource.html', 'w',encoding='utf-8') as f:\n",
    "        f.write(html)\n",
    "\n",
    "\n",
    "driver = webdriver.Edge()\n",
    "url = 'https://www.aqua-calc.com/calculate/food-volume-to-weight'\n",
    "driver.get(url)\n",
    "\n",
    "select = Select(WebDriverWait(driver, 10).until(EC.element_to_be_clickable((By.ID, \"Unit\"))))\n",
    "select.select_by_value('cubic centimeter')\n",
    "\n",
    "\n",
    "input_element = WebDriverWait(driver, 10).until(EC.element_to_be_clickable((By.ID, \"volume\")))\n",
    "input_element.clear()\n",
    "input_element = driver.find_element_by_id('volume')\n",
    "input_element.send_keys(volume)\n",
    "input_element.submit()\n",
    "\n",
    "input_element = driver.find_element_by_id('search-for-field')\n",
    "input_element.send_keys(food)\n",
    "input_element.submit()\n",
    "\n",
    "time.sleep(5)\n",
    "\n",
    "save_page_source(driver)\n",
    "driver.quit()\n",
    "\n",
    "\n",
    "\n",
    "html = codecs.open('fullpage_pagesource.html')\n",
    "soup = BeautifulSoup(html, 'lxml')\n",
    "\n",
    "\n",
    "div_element = soup.find('div', id='food-volume-to-weight-weight')\n",
    "table = div_element.find('table', class_='tdEvenAlignRight tdOddAlignLeft tdOdd math')\n",
    "table_body = table.find('tbody')\n",
    "\n",
    "data = {}\n",
    "rows = table_body.find_all('tr')\n",
    "for row in rows:\n",
    "    cols = row.find_all('td')\n",
    "    cols = [ele.text.strip() for ele in cols if ele.text.strip() != '']\n",
    "    cols = dict(zip(cols[::2], cols[1::2]))\n",
    "    data.update(cols) \n",
    "\n",
    "df = pd.DataFrame([data])\n",
    "df.to_csv('mass.csv', index=False)\n",
    "\n",
    "\n",
    "\n",
    "data = []\n",
    "table = soup.find('table', class_='right black_on_white calcContent tdAlignLeft1stChild tdAlignRight tdOdd tdEven math')\n",
    "rows = table.find_all('tr')\n",
    "for row in rows:\n",
    "    cols = row.find_all('td')\n",
    "    cols = [ele.text.strip() for ele in cols if ele.text.strip() != '']\n",
    "    if len(cols) == 3:\n",
    "        data.append(cols)\n",
    "    \n",
    "df = pd.DataFrame(data, columns=['Nutrient (find foodsrich in nutrients', 'Unit', 'Value /21560 g'])\n",
    "df.to_csv('nutrients.csv', index=False)\n",
    "\n",
    "\n",
    "div_element = soup.find('div', id='food-volume-to-weight-volume')\n",
    "table = div_element.find('table', class_='tdEvenAlignRight tdOddAlignLeft tdOdd math')\n",
    "rows = table.find_all('tr')\n",
    "\n",
    "data = []\n",
    "for row in rows:\n",
    "    cols = row.find_all('td')\n",
    "    cols = [ele.text.strip() for ele in cols if ele.text.strip() != '']\n",
    "    if len(cols) == 4:\n",
    "        data.append(cols)\n",
    "    # cols = dict(zip(cols[::2], cols[1::2]))\n",
    "    # data.update(cols) \n",
    "\n",
    "df = pd.DataFrame(data)\n",
    "df.to_csv('volume.csv', index=False, header=False)\n",
    "\n",
    "\n",
    "div_element = soup.find('div', id='food-calories')\n",
    "table = div_element.find('table')\n",
    "rows = table.find_all('tr')\n",
    "\n",
    "data = []\n",
    "for row in rows:\n",
    "    cols = row.find_all('td')\n",
    "    cols = [ele.text.strip() for ele in cols if ele.text.strip() != '']\n",
    "    if len(cols) == 3:\n",
    "        data.append(cols)\n",
    "\n",
    "\n",
    "df = pd.DataFrame(data)\n",
    "df.to_csv('calories.csv', index=False, header=False)\n",
    "\n"
   ]
  },
  {
   "cell_type": "code",
   "execution_count": 23,
   "id": "c3fb5cf2",
   "metadata": {},
   "outputs": [],
   "source": [
    "mass=pd.read_csv('mass.csv',encoding = \"utf-8\")"
   ]
  },
  {
   "cell_type": "code",
   "execution_count": 26,
   "id": "942bd65b",
   "metadata": {},
   "outputs": [
    {
     "name": "stdout",
     "output_type": "stream",
     "text": [
      "0    33.21\n",
      "Name: gram, dtype: float64\n"
     ]
    }
   ],
   "source": [
    "print(mass['gram'])"
   ]
  }
 ],
 "metadata": {
  "kernelspec": {
   "display_name": "Python 3",
   "language": "python",
   "name": "python3"
  },
  "language_info": {
   "codemirror_mode": {
    "name": "ipython",
    "version": 3
   },
   "file_extension": ".py",
   "mimetype": "text/x-python",
   "name": "python",
   "nbconvert_exporter": "python",
   "pygments_lexer": "ipython3",
   "version": "3.8.8"
  }
 },
 "nbformat": 4,
 "nbformat_minor": 5
}
